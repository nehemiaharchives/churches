{
 "cells": [
  {
   "cell_type": "code",
   "execution_count": null,
   "metadata": {
    "collapsed": true
   },
   "outputs": [],
   "source": [
    "## first and last 5 records\n",
    "import pandas as pd\n",
    "df = pd.read_csv(\"data/churches.csv\")\n",
    "df.head().append(df.tail())\n"
   ]
  },
  {
   "cell_type": "code",
   "execution_count": 6,
   "outputs": [
    {
     "name": "stdout",
     "output_type": "stream",
     "text": [
      "0       https://www.google.com/maps?cid=32055189630651...\n",
      "1       https://www.google.com/maps?cid=14137319173375...\n",
      "2       https://www.google.com/maps?cid=15516975061922...\n",
      "3       https://www.google.com/maps?cid=12195122116129...\n",
      "4       https://www.google.com/maps?cid=12555144456329...\n",
      "                              ...                        \n",
      "9474    https://www.google.com/maps?cid=87704748407307...\n",
      "9475    https://www.google.com/maps?cid=17076190111636...\n",
      "9476    https://www.google.com/maps?cid=82914491363390...\n",
      "9477    https://www.google.com/maps?cid=12131888780380...\n",
      "9478    https://www.google.com/maps?cid=17376109309096...\n",
      "Name: url, Length: 9479, dtype: object\n"
     ]
    }
   ],
   "source": [
    "## one column\n",
    "print(df.loc[:, \"url\"])\n"
   ],
   "metadata": {
    "collapsed": false,
    "pycharm": {
     "name": "#%%\n"
    }
   }
  },
  {
   "cell_type": "code",
   "execution_count": null,
   "outputs": [],
   "source": [
    "## 2 types of columns\n",
    "print(df.loc[:, [\"url\", \"name\"]])\n"
   ],
   "metadata": {
    "collapsed": false,
    "pycharm": {
     "name": "#%%\n"
    }
   }
  }
 ],
 "metadata": {
  "kernelspec": {
   "name": "churches",
   "language": "python",
   "display_name": "Python (churches)"
  },
  "language_info": {
   "codemirror_mode": {
    "name": "ipython",
    "version": 2
   },
   "file_extension": ".py",
   "mimetype": "text/x-python",
   "name": "python",
   "nbconvert_exporter": "python",
   "pygments_lexer": "ipython2",
   "version": "2.7.6"
  }
 },
 "nbformat": 4,
 "nbformat_minor": 0
}