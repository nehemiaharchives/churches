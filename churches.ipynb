{
 "cells": [
  {
   "cell_type": "code",
   "execution_count": 8,
   "metadata": {
    "collapsed": true
   },
   "outputs": [
    {
     "data": {
      "text/plain": "                                                    url  catholic        lat  \\\n0     https://www.google.com/maps?cid=32055189630651...     False  34.701565   \n1     https://www.google.com/maps?cid=14137319173375...     False  33.571574   \n2     https://www.google.com/maps?cid=15516975061922...     False  35.003160   \n3     https://www.google.com/maps?cid=12195122116129...     False  34.662742   \n4     https://www.google.com/maps?cid=12555144456329...     False  34.346571   \n9474  https://www.google.com/maps?cid=87704748407307...      True  35.229245   \n9475  https://www.google.com/maps?cid=17076190111636...      True  35.683805   \n9476  https://www.google.com/maps?cid=82914491363390...      True  33.139725   \n9477  https://www.google.com/maps?cid=12131888780380...      True  33.195672   \n9478  https://www.google.com/maps?cid=17376109309096...      True  34.678678   \n\n             lng                                       address            name  \n0     135.511856    〒530-0041 大阪府大阪市北区天神橋３丁目６−２０ 救世軍大阪セントラルホール      救世軍西日本連隊本部  \n1     133.515530                        〒780-0972 高知県高知市中万々８５９         救世軍高知小隊  \n2     135.764742  富小路通四条下る37 救世軍京都小隊 徳正寺町 下京区 京都市 京都府 600-8051  Salvation Army  \n3     135.539076                 〒544-0031 大阪府大阪市生野区鶴橋５丁目１９−１３         救世軍鶴橋小隊  \n4     134.041896                     〒760-0020 香川県高松市錦町２丁目９−２６         救世軍高松錦町  \n9474  138.939541                       〒412-0033 静岡県御殿場市神山１９１５     駿河カトリック教会聖堂  \n9475  139.732597                      〒102-0094 東京都千代田区紀尾井町７−１      クルトゥルハイム聖堂  \n9476  129.110770              〒857-4604 長崎県南松浦郡新上五島町津和崎郷５８９−１４       カトリック米山教会  \n9477  129.059447              〒857-4701 長崎県北松浦郡小値賀町笛吹郷段地２６７９−１      カトリック小値賀教会  \n9478  135.526893       〒540-0004 大阪府大阪市中央区玉造２丁目２４−２２ カトリック玉造教会      カトリック玉造大聖堂  ",
      "text/html": "<div>\n<style scoped>\n    .dataframe tbody tr th:only-of-type {\n        vertical-align: middle;\n    }\n\n    .dataframe tbody tr th {\n        vertical-align: top;\n    }\n\n    .dataframe thead th {\n        text-align: right;\n    }\n</style>\n<table border=\"1\" class=\"dataframe\">\n  <thead>\n    <tr style=\"text-align: right;\">\n      <th></th>\n      <th>url</th>\n      <th>catholic</th>\n      <th>lat</th>\n      <th>lng</th>\n      <th>address</th>\n      <th>name</th>\n    </tr>\n  </thead>\n  <tbody>\n    <tr>\n      <th>0</th>\n      <td>https://www.google.com/maps?cid=32055189630651...</td>\n      <td>False</td>\n      <td>34.701565</td>\n      <td>135.511856</td>\n      <td>〒530-0041 大阪府大阪市北区天神橋３丁目６−２０ 救世軍大阪セントラルホール</td>\n      <td>救世軍西日本連隊本部</td>\n    </tr>\n    <tr>\n      <th>1</th>\n      <td>https://www.google.com/maps?cid=14137319173375...</td>\n      <td>False</td>\n      <td>33.571574</td>\n      <td>133.515530</td>\n      <td>〒780-0972 高知県高知市中万々８５９</td>\n      <td>救世軍高知小隊</td>\n    </tr>\n    <tr>\n      <th>2</th>\n      <td>https://www.google.com/maps?cid=15516975061922...</td>\n      <td>False</td>\n      <td>35.003160</td>\n      <td>135.764742</td>\n      <td>富小路通四条下る37 救世軍京都小隊 徳正寺町 下京区 京都市 京都府 600-8051</td>\n      <td>Salvation Army</td>\n    </tr>\n    <tr>\n      <th>3</th>\n      <td>https://www.google.com/maps?cid=12195122116129...</td>\n      <td>False</td>\n      <td>34.662742</td>\n      <td>135.539076</td>\n      <td>〒544-0031 大阪府大阪市生野区鶴橋５丁目１９−１３</td>\n      <td>救世軍鶴橋小隊</td>\n    </tr>\n    <tr>\n      <th>4</th>\n      <td>https://www.google.com/maps?cid=12555144456329...</td>\n      <td>False</td>\n      <td>34.346571</td>\n      <td>134.041896</td>\n      <td>〒760-0020 香川県高松市錦町２丁目９−２６</td>\n      <td>救世軍高松錦町</td>\n    </tr>\n    <tr>\n      <th>9474</th>\n      <td>https://www.google.com/maps?cid=87704748407307...</td>\n      <td>True</td>\n      <td>35.229245</td>\n      <td>138.939541</td>\n      <td>〒412-0033 静岡県御殿場市神山１９１５</td>\n      <td>駿河カトリック教会聖堂</td>\n    </tr>\n    <tr>\n      <th>9475</th>\n      <td>https://www.google.com/maps?cid=17076190111636...</td>\n      <td>True</td>\n      <td>35.683805</td>\n      <td>139.732597</td>\n      <td>〒102-0094 東京都千代田区紀尾井町７−１</td>\n      <td>クルトゥルハイム聖堂</td>\n    </tr>\n    <tr>\n      <th>9476</th>\n      <td>https://www.google.com/maps?cid=82914491363390...</td>\n      <td>True</td>\n      <td>33.139725</td>\n      <td>129.110770</td>\n      <td>〒857-4604 長崎県南松浦郡新上五島町津和崎郷５８９−１４</td>\n      <td>カトリック米山教会</td>\n    </tr>\n    <tr>\n      <th>9477</th>\n      <td>https://www.google.com/maps?cid=12131888780380...</td>\n      <td>True</td>\n      <td>33.195672</td>\n      <td>129.059447</td>\n      <td>〒857-4701 長崎県北松浦郡小値賀町笛吹郷段地２６７９−１</td>\n      <td>カトリック小値賀教会</td>\n    </tr>\n    <tr>\n      <th>9478</th>\n      <td>https://www.google.com/maps?cid=17376109309096...</td>\n      <td>True</td>\n      <td>34.678678</td>\n      <td>135.526893</td>\n      <td>〒540-0004 大阪府大阪市中央区玉造２丁目２４−２２ カトリック玉造教会</td>\n      <td>カトリック玉造大聖堂</td>\n    </tr>\n  </tbody>\n</table>\n</div>"
     },
     "execution_count": 8,
     "metadata": {},
     "output_type": "execute_result"
    }
   ],
   "source": [
    "## first and last 5 records\n",
    "import pandas as pd\n",
    "df = pd.read_csv(\"data/churches.csv\")\n",
    "df.head().append(df.tail())\n"
   ]
  },
  {
   "cell_type": "code",
   "execution_count": 9,
   "outputs": [
    {
     "name": "stdout",
     "output_type": "stream",
     "text": [
      "0       https://www.google.com/maps?cid=32055189630651...\n",
      "1       https://www.google.com/maps?cid=14137319173375...\n",
      "2       https://www.google.com/maps?cid=15516975061922...\n",
      "3       https://www.google.com/maps?cid=12195122116129...\n",
      "4       https://www.google.com/maps?cid=12555144456329...\n",
      "                              ...                        \n",
      "9474    https://www.google.com/maps?cid=87704748407307...\n",
      "9475    https://www.google.com/maps?cid=17076190111636...\n",
      "9476    https://www.google.com/maps?cid=82914491363390...\n",
      "9477    https://www.google.com/maps?cid=12131888780380...\n",
      "9478    https://www.google.com/maps?cid=17376109309096...\n",
      "Name: url, Length: 9479, dtype: object\n"
     ]
    }
   ],
   "source": [
    "## one column\n",
    "print(df.loc[:, \"url\"])\n"
   ],
   "metadata": {
    "collapsed": false,
    "pycharm": {
     "name": "#%%\n"
    }
   }
  },
  {
   "cell_type": "code",
   "execution_count": 10,
   "outputs": [
    {
     "name": "stdout",
     "output_type": "stream",
     "text": [
      "                                                    url            name\n",
      "0     https://www.google.com/maps?cid=32055189630651...      救世軍西日本連隊本部\n",
      "1     https://www.google.com/maps?cid=14137319173375...         救世軍高知小隊\n",
      "2     https://www.google.com/maps?cid=15516975061922...  Salvation Army\n",
      "3     https://www.google.com/maps?cid=12195122116129...         救世軍鶴橋小隊\n",
      "4     https://www.google.com/maps?cid=12555144456329...         救世軍高松錦町\n",
      "...                                                 ...             ...\n",
      "9474  https://www.google.com/maps?cid=87704748407307...     駿河カトリック教会聖堂\n",
      "9475  https://www.google.com/maps?cid=17076190111636...      クルトゥルハイム聖堂\n",
      "9476  https://www.google.com/maps?cid=82914491363390...       カトリック米山教会\n",
      "9477  https://www.google.com/maps?cid=12131888780380...      カトリック小値賀教会\n",
      "9478  https://www.google.com/maps?cid=17376109309096...      カトリック玉造大聖堂\n",
      "\n",
      "[9479 rows x 2 columns]\n"
     ]
    }
   ],
   "source": [
    "## 2 types of columns\n",
    "print(df.loc[:, [\"url\", \"name\"]])"
   ],
   "metadata": {
    "collapsed": false,
    "pycharm": {
     "name": "#%%\n"
    }
   }
  }
 ],
 "metadata": {
  "kernelspec": {
   "name": "churches",
   "language": "python",
   "display_name": "Python (churches)"
  },
  "language_info": {
   "codemirror_mode": {
    "name": "ipython",
    "version": 2
   },
   "file_extension": ".py",
   "mimetype": "text/x-python",
   "name": "python",
   "nbconvert_exporter": "python",
   "pygments_lexer": "ipython2",
   "version": "2.7.6"
  }
 },
 "nbformat": 4,
 "nbformat_minor": 0
}