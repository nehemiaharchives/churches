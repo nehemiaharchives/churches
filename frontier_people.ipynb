{
 "cells": [
  {
   "cell_type": "code",
   "execution_count": 109,
   "metadata": {
    "collapsed": true
   },
   "outputs": [
    {
     "data": {
      "text/plain": "           ID                     People     Country                 Language  \\\n3408  20755IR                    Dezfuli        Iran                  Dezfuli   \n1156  21569BR                      Baena      Brazil               Portuguese   \n600   12682NI                       Kila     Nigeria                   Somyev   \n1170  18870BR                Yakarawakta      Brazil           Uru-Eu-Wau-Wau   \n1603  18649CH                     Ongkor       China                   Evenki   \n611   12805BR                     Korubo      Brazil                   Korubo   \n1169  21568BR                   Turiwara      Brazil                 Turiwara   \n1184  19238MT               Jew, Maltese       Malta                  Maltese   \n881   14357BX                      Penan      Brunei           Penan, Eastern   \n1172  21649CO                     Siripu    Colombia                    Cuiba   \n4983  17571PK    Jat (Muslim traditions)    Pakistan         Punjabi, Western   \n4966  16318IN                      Bania       India                    Hindi   \n4967  17554IN                   Mahratta       India                  Marathi   \n54    10379AG  Algerian, Arabic-speaking     Algeria  Arabic, Algerian Spoken   \n4974  17928IN  Rajput (Hindu traditions)       India                    Hindi   \n4969  16187IN   Yadav (Hindu traditions)       India                    Hindi   \n4968  16521IN                    Brahmin       India                    Hindi   \n4987  18274TU                       Turk      Turkey                  Turkish   \n4984  18084IN                     Shaikh       India                     Urdu   \n4985  18084BG                     Shaikh  Bangladesh                  Bengali   \n\n              Religion Indigenous 10/40 Window  PeopleID3 Rog3 Frontier  \\\n3408             Islam        Yes          Yes      20755   IR        Y   \n1156  Ethnic Religions        Yes           No      21569   BR        Y   \n600              Islam        Yes          Yes      12682   NI        Y   \n1170  Ethnic Religions        Yes           No      18870   BR        Y   \n1603  Ethnic Religions        Yes          Yes      18649   CH        Y   \n611   Ethnic Religions        Yes           No      12805   BR        Y   \n1169  Ethnic Religions        Yes           No      21568   BR        Y   \n1184  Ethnic Religions        Yes           No      19238   MT        Y   \n881   Ethnic Religions        Yes          Yes      14357   BX        Y   \n1172  Ethnic Religions        Yes           No      21649   CO        Y   \n4983             Islam        Yes          Yes      17571   PK        Y   \n4966          Hinduism        Yes          Yes      16318   IN        Y   \n4967          Hinduism        Yes          Yes      17554   IN        Y   \n54               Islam        Yes          Yes      10379   AG        Y   \n4974          Hinduism        Yes          Yes      17928   IN        Y   \n4969          Hinduism        Yes          Yes      16187   IN        Y   \n4968          Hinduism        Yes          Yes      16521   IN        Y   \n4987             Islam        Yes          Yes      18274   TU        Y   \n4984             Islam        Yes          Yes      18084   IN        Y   \n4985             Islam        Yes          Yes      18084   BG        Y   \n\n      PopulationRange % Adherents Source % Christian Adherents    Population  \\\n3408                1              0.00%                  0.00%         10.0   \n1156                1              0.00%                  0.00%         20.0   \n600                 1              0.00%                  0.00%         20.0   \n1170                1              0.00%                  0.00%         30.0   \n1603                1              0.00%                  0.00%         30.0   \n611                 1              0.00%                  0.00%         50.0   \n1169                1              0.00%                  0.00%         60.0   \n1184                1              0.00%                  0.00%         60.0   \n881                 1              0.00%                  0.00%         60.0   \n1172                1              0.00%                  0.00%         70.0   \n4983                5              0.00%                  0.00%   28827000.0   \n4966                5              0.00%                  0.00%   29331000.0   \n4967                5              0.00%                  0.00%   31159000.0   \n54                  5              0.90%                  0.01%   31810000.0   \n4974                5              1.90%                  0.02%   45611000.0   \n4969                5              0.50%                  0.01%   58642000.0   \n4968                5              0.40%                  0.00%   59134000.0   \n4987                5              1.00%                  0.01%   59753000.0   \n4984                5              0.00%                  0.00%   85886000.0   \n4985                5              0.00%                  0.00%  125776000.0   \n\n      Workers Needed  \n3408             1.0  \n1156             1.0  \n600              1.0  \n1170             1.0  \n1603             1.0  \n611              1.0  \n1169             1.0  \n1184             1.0  \n881              1.0  \n1172             1.0  \n4983           577.0  \n4966           587.0  \n4967           623.0  \n54             636.0  \n4974           912.0  \n4969          1173.0  \n4968          1183.0  \n4987          1195.0  \n4984          1718.0  \n4985          2516.0  ",
      "text/html": "<div>\n<style scoped>\n    .dataframe tbody tr th:only-of-type {\n        vertical-align: middle;\n    }\n\n    .dataframe tbody tr th {\n        vertical-align: top;\n    }\n\n    .dataframe thead th {\n        text-align: right;\n    }\n</style>\n<table border=\"1\" class=\"dataframe\">\n  <thead>\n    <tr style=\"text-align: right;\">\n      <th></th>\n      <th>ID</th>\n      <th>People</th>\n      <th>Country</th>\n      <th>Language</th>\n      <th>Religion</th>\n      <th>Indigenous</th>\n      <th>10/40 Window</th>\n      <th>PeopleID3</th>\n      <th>Rog3</th>\n      <th>Frontier</th>\n      <th>PopulationRange</th>\n      <th>% Adherents Source</th>\n      <th>% Christian Adherents</th>\n      <th>Population</th>\n      <th>Workers Needed</th>\n    </tr>\n  </thead>\n  <tbody>\n    <tr>\n      <th>3408</th>\n      <td>20755IR</td>\n      <td>Dezfuli</td>\n      <td>Iran</td>\n      <td>Dezfuli</td>\n      <td>Islam</td>\n      <td>Yes</td>\n      <td>Yes</td>\n      <td>20755</td>\n      <td>IR</td>\n      <td>Y</td>\n      <td>1</td>\n      <td>0.00%</td>\n      <td>0.00%</td>\n      <td>10.0</td>\n      <td>1.0</td>\n    </tr>\n    <tr>\n      <th>1156</th>\n      <td>21569BR</td>\n      <td>Baena</td>\n      <td>Brazil</td>\n      <td>Portuguese</td>\n      <td>Ethnic Religions</td>\n      <td>Yes</td>\n      <td>No</td>\n      <td>21569</td>\n      <td>BR</td>\n      <td>Y</td>\n      <td>1</td>\n      <td>0.00%</td>\n      <td>0.00%</td>\n      <td>20.0</td>\n      <td>1.0</td>\n    </tr>\n    <tr>\n      <th>600</th>\n      <td>12682NI</td>\n      <td>Kila</td>\n      <td>Nigeria</td>\n      <td>Somyev</td>\n      <td>Islam</td>\n      <td>Yes</td>\n      <td>Yes</td>\n      <td>12682</td>\n      <td>NI</td>\n      <td>Y</td>\n      <td>1</td>\n      <td>0.00%</td>\n      <td>0.00%</td>\n      <td>20.0</td>\n      <td>1.0</td>\n    </tr>\n    <tr>\n      <th>1170</th>\n      <td>18870BR</td>\n      <td>Yakarawakta</td>\n      <td>Brazil</td>\n      <td>Uru-Eu-Wau-Wau</td>\n      <td>Ethnic Religions</td>\n      <td>Yes</td>\n      <td>No</td>\n      <td>18870</td>\n      <td>BR</td>\n      <td>Y</td>\n      <td>1</td>\n      <td>0.00%</td>\n      <td>0.00%</td>\n      <td>30.0</td>\n      <td>1.0</td>\n    </tr>\n    <tr>\n      <th>1603</th>\n      <td>18649CH</td>\n      <td>Ongkor</td>\n      <td>China</td>\n      <td>Evenki</td>\n      <td>Ethnic Religions</td>\n      <td>Yes</td>\n      <td>Yes</td>\n      <td>18649</td>\n      <td>CH</td>\n      <td>Y</td>\n      <td>1</td>\n      <td>0.00%</td>\n      <td>0.00%</td>\n      <td>30.0</td>\n      <td>1.0</td>\n    </tr>\n    <tr>\n      <th>611</th>\n      <td>12805BR</td>\n      <td>Korubo</td>\n      <td>Brazil</td>\n      <td>Korubo</td>\n      <td>Ethnic Religions</td>\n      <td>Yes</td>\n      <td>No</td>\n      <td>12805</td>\n      <td>BR</td>\n      <td>Y</td>\n      <td>1</td>\n      <td>0.00%</td>\n      <td>0.00%</td>\n      <td>50.0</td>\n      <td>1.0</td>\n    </tr>\n    <tr>\n      <th>1169</th>\n      <td>21568BR</td>\n      <td>Turiwara</td>\n      <td>Brazil</td>\n      <td>Turiwara</td>\n      <td>Ethnic Religions</td>\n      <td>Yes</td>\n      <td>No</td>\n      <td>21568</td>\n      <td>BR</td>\n      <td>Y</td>\n      <td>1</td>\n      <td>0.00%</td>\n      <td>0.00%</td>\n      <td>60.0</td>\n      <td>1.0</td>\n    </tr>\n    <tr>\n      <th>1184</th>\n      <td>19238MT</td>\n      <td>Jew, Maltese</td>\n      <td>Malta</td>\n      <td>Maltese</td>\n      <td>Ethnic Religions</td>\n      <td>Yes</td>\n      <td>No</td>\n      <td>19238</td>\n      <td>MT</td>\n      <td>Y</td>\n      <td>1</td>\n      <td>0.00%</td>\n      <td>0.00%</td>\n      <td>60.0</td>\n      <td>1.0</td>\n    </tr>\n    <tr>\n      <th>881</th>\n      <td>14357BX</td>\n      <td>Penan</td>\n      <td>Brunei</td>\n      <td>Penan, Eastern</td>\n      <td>Ethnic Religions</td>\n      <td>Yes</td>\n      <td>Yes</td>\n      <td>14357</td>\n      <td>BX</td>\n      <td>Y</td>\n      <td>1</td>\n      <td>0.00%</td>\n      <td>0.00%</td>\n      <td>60.0</td>\n      <td>1.0</td>\n    </tr>\n    <tr>\n      <th>1172</th>\n      <td>21649CO</td>\n      <td>Siripu</td>\n      <td>Colombia</td>\n      <td>Cuiba</td>\n      <td>Ethnic Religions</td>\n      <td>Yes</td>\n      <td>No</td>\n      <td>21649</td>\n      <td>CO</td>\n      <td>Y</td>\n      <td>1</td>\n      <td>0.00%</td>\n      <td>0.00%</td>\n      <td>70.0</td>\n      <td>1.0</td>\n    </tr>\n    <tr>\n      <th>4983</th>\n      <td>17571PK</td>\n      <td>Jat (Muslim traditions)</td>\n      <td>Pakistan</td>\n      <td>Punjabi, Western</td>\n      <td>Islam</td>\n      <td>Yes</td>\n      <td>Yes</td>\n      <td>17571</td>\n      <td>PK</td>\n      <td>Y</td>\n      <td>5</td>\n      <td>0.00%</td>\n      <td>0.00%</td>\n      <td>28827000.0</td>\n      <td>577.0</td>\n    </tr>\n    <tr>\n      <th>4966</th>\n      <td>16318IN</td>\n      <td>Bania</td>\n      <td>India</td>\n      <td>Hindi</td>\n      <td>Hinduism</td>\n      <td>Yes</td>\n      <td>Yes</td>\n      <td>16318</td>\n      <td>IN</td>\n      <td>Y</td>\n      <td>5</td>\n      <td>0.00%</td>\n      <td>0.00%</td>\n      <td>29331000.0</td>\n      <td>587.0</td>\n    </tr>\n    <tr>\n      <th>4967</th>\n      <td>17554IN</td>\n      <td>Mahratta</td>\n      <td>India</td>\n      <td>Marathi</td>\n      <td>Hinduism</td>\n      <td>Yes</td>\n      <td>Yes</td>\n      <td>17554</td>\n      <td>IN</td>\n      <td>Y</td>\n      <td>5</td>\n      <td>0.00%</td>\n      <td>0.00%</td>\n      <td>31159000.0</td>\n      <td>623.0</td>\n    </tr>\n    <tr>\n      <th>54</th>\n      <td>10379AG</td>\n      <td>Algerian, Arabic-speaking</td>\n      <td>Algeria</td>\n      <td>Arabic, Algerian Spoken</td>\n      <td>Islam</td>\n      <td>Yes</td>\n      <td>Yes</td>\n      <td>10379</td>\n      <td>AG</td>\n      <td>Y</td>\n      <td>5</td>\n      <td>0.90%</td>\n      <td>0.01%</td>\n      <td>31810000.0</td>\n      <td>636.0</td>\n    </tr>\n    <tr>\n      <th>4974</th>\n      <td>17928IN</td>\n      <td>Rajput (Hindu traditions)</td>\n      <td>India</td>\n      <td>Hindi</td>\n      <td>Hinduism</td>\n      <td>Yes</td>\n      <td>Yes</td>\n      <td>17928</td>\n      <td>IN</td>\n      <td>Y</td>\n      <td>5</td>\n      <td>1.90%</td>\n      <td>0.02%</td>\n      <td>45611000.0</td>\n      <td>912.0</td>\n    </tr>\n    <tr>\n      <th>4969</th>\n      <td>16187IN</td>\n      <td>Yadav (Hindu traditions)</td>\n      <td>India</td>\n      <td>Hindi</td>\n      <td>Hinduism</td>\n      <td>Yes</td>\n      <td>Yes</td>\n      <td>16187</td>\n      <td>IN</td>\n      <td>Y</td>\n      <td>5</td>\n      <td>0.50%</td>\n      <td>0.01%</td>\n      <td>58642000.0</td>\n      <td>1173.0</td>\n    </tr>\n    <tr>\n      <th>4968</th>\n      <td>16521IN</td>\n      <td>Brahmin</td>\n      <td>India</td>\n      <td>Hindi</td>\n      <td>Hinduism</td>\n      <td>Yes</td>\n      <td>Yes</td>\n      <td>16521</td>\n      <td>IN</td>\n      <td>Y</td>\n      <td>5</td>\n      <td>0.40%</td>\n      <td>0.00%</td>\n      <td>59134000.0</td>\n      <td>1183.0</td>\n    </tr>\n    <tr>\n      <th>4987</th>\n      <td>18274TU</td>\n      <td>Turk</td>\n      <td>Turkey</td>\n      <td>Turkish</td>\n      <td>Islam</td>\n      <td>Yes</td>\n      <td>Yes</td>\n      <td>18274</td>\n      <td>TU</td>\n      <td>Y</td>\n      <td>5</td>\n      <td>1.00%</td>\n      <td>0.01%</td>\n      <td>59753000.0</td>\n      <td>1195.0</td>\n    </tr>\n    <tr>\n      <th>4984</th>\n      <td>18084IN</td>\n      <td>Shaikh</td>\n      <td>India</td>\n      <td>Urdu</td>\n      <td>Islam</td>\n      <td>Yes</td>\n      <td>Yes</td>\n      <td>18084</td>\n      <td>IN</td>\n      <td>Y</td>\n      <td>5</td>\n      <td>0.00%</td>\n      <td>0.00%</td>\n      <td>85886000.0</td>\n      <td>1718.0</td>\n    </tr>\n    <tr>\n      <th>4985</th>\n      <td>18084BG</td>\n      <td>Shaikh</td>\n      <td>Bangladesh</td>\n      <td>Bengali</td>\n      <td>Islam</td>\n      <td>Yes</td>\n      <td>Yes</td>\n      <td>18084</td>\n      <td>BG</td>\n      <td>Y</td>\n      <td>5</td>\n      <td>0.00%</td>\n      <td>0.00%</td>\n      <td>125776000.0</td>\n      <td>2516.0</td>\n    </tr>\n  </tbody>\n</table>\n</div>"
     },
     "execution_count": 109,
     "metadata": {},
     "output_type": "execute_result"
    }
   ],
   "source": [
    "## Joshua Project, smallest and biggest 10 Frontier Peoples from https://joshuaproject.net/frontier/1\n",
    "import numpy as np\n",
    "import pandas as pd\n",
    "csv = pd.read_csv(\"data/frontier_peoples.csv\").sort_values('Population')\n",
    "df = csv[csv.Population.notnull()]\n",
    "df.head(10).append(df.tail(10))"
   ]
  },
  {
   "cell_type": "code",
   "execution_count": 93,
   "outputs": [
    {
     "data": {
      "text/plain": "<AxesSubplot:xlabel='Population'>"
     },
     "execution_count": 93,
     "metadata": {},
     "output_type": "execute_result"
    },
    {
     "data": {
      "text/plain": "<Figure size 432x288 with 1 Axes>",
      "image/png": "[encoded data removed]"
     },
     "metadata": {
      "needs_background": "light"
     },
     "output_type": "display_data"
    }
   ],
   "source": [
    "## number of frontier people groups by population size showing most of them are in between 10^2 to 10^5 (100 to 90,000) a size of a village, town or city\n",
    "people_by_population = df.groupby(\"Population\")[\"ID\"].count()\n",
    "people_by_population.plot(y=\"People Group Count\", x=\"Population\", logx=True)"
   ],
   "metadata": {
    "collapsed": false,
    "pycharm": {
     "name": "#%%\n"
    }
   }
  },
  {
   "cell_type": "code",
   "execution_count": 94,
   "outputs": [
    {
     "data": {
      "text/plain": "4985"
     },
     "execution_count": 94,
     "metadata": {},
     "output_type": "execute_result"
    }
   ],
   "source": [
    "## total number of frontier people groups\n",
    "pop = df[\"Population\"]\n",
    "pop.count()"
   ],
   "metadata": {
    "collapsed": false,
    "pycharm": {
     "name": "#%%\n"
    }
   }
  },
  {
   "cell_type": "code",
   "execution_count": 95,
   "outputs": [
    {
     "data": {
      "text/plain": "10^2      38\n10^3     446\n10^4    1536\n10^5    1760\n10^6     935\n10^7     236\n10^8      33\nName: Population, dtype: int64"
     },
     "execution_count": 95,
     "metadata": {},
     "output_type": "execute_result"
    }
   ],
   "source": [
    "## number of frontier people groups grouped by population in a table\n",
    "\n",
    "def logs(n):\n",
    "    return pow(10, n)\n",
    "\n",
    "def label(n):\n",
    "    return f'10^{n}'\n",
    "\n",
    "bins = list(map(logs, np.arange(2, 8)))\n",
    "bins.insert(0, pop.min())\n",
    "bins.append(pop.max())\n",
    "labels = list(map(label, np.arange(2, 9)))\n",
    "summary = pd.cut(pop, bins, labels=labels)\n",
    "summary.value_counts().sort_index()"
   ],
   "metadata": {
    "collapsed": false,
    "pycharm": {
     "name": "#%%\n"
    }
   }
  },
  {
   "cell_type": "code",
   "execution_count": 96,
   "outputs": [
    {
     "data": {
      "text/plain": "Population\n10^2         3200.0\n10^3       268000.0\n10^4      6317800.0\n10^5     70958000.0\n10^6    295429000.0\n10^7    695226000.0\n10^8    912832000.0\nName: Population, dtype: float64"
     },
     "execution_count": 96,
     "metadata": {},
     "output_type": "execute_result"
    }
   ],
   "source": [
    "## total population of frontier people groups grouped by population in a table\n",
    "df.groupby(summary)[\"Population\"].sum()"
   ],
   "metadata": {
    "collapsed": false,
    "pycharm": {
     "name": "#%%\n"
    }
   }
  },
  {
   "cell_type": "code",
   "execution_count": 97,
   "outputs": [
    {
     "data": {
      "text/plain": "<AxesSubplot:xlabel='Population'>"
     },
     "execution_count": 97,
     "metadata": {},
     "output_type": "execute_result"
    },
    {
     "data": {
      "text/plain": "<Figure size 432x288 with 1 Axes>",
      "image/png": "[encoded data removed]"
     },
     "metadata": {
      "needs_background": "light"
     },
     "output_type": "display_data"
    }
   ],
   "source": [
    "## total population of frontier people groups grouped by population in a graph\n",
    "\n",
    "df.groupby(summary)[\"Population\"].sum().plot()"
   ],
   "metadata": {
    "collapsed": false,
    "pycharm": {
     "name": "#%%\n"
    }
   }
  },
  {
   "cell_type": "code",
   "execution_count": 98,
   "outputs": [
    {
     "data": {
      "text/plain": "(10.0, 1000000.0]           4715\n(1000000.0, 125776000.0]     269\nName: Population, dtype: int64"
     },
     "execution_count": 98,
     "metadata": {},
     "output_type": "execute_result"
    }
   ],
   "source": [
    "# number of frontier people group split by population below and above 10^6\n",
    "\n",
    "pd.cut(pop, bins=[pop.min(), pow(10, 6), pop.max()]).value_counts().sort_index()"
   ],
   "metadata": {
    "collapsed": false,
    "pycharm": {
     "name": "#%%\n"
    }
   }
  },
  {
   "cell_type": "code",
   "execution_count": 99,
   "outputs": [
    {
     "data": {
      "text/plain": "(10.0, 10000000.0]           4951\n(10000000.0, 125776000.0]      33\nName: Population, dtype: int64"
     },
     "execution_count": 99,
     "metadata": {},
     "output_type": "execute_result"
    }
   ],
   "source": [
    "# number of frontier people group split by population below and above 10^7\n",
    "\n",
    "pd.cut(pop, bins=[pop.min(), pow(10, 7), pop.max()]).value_counts().sort_index()\n"
   ],
   "metadata": {
    "collapsed": false,
    "pycharm": {
     "name": "#%%\n"
    }
   }
  }
 ],
 "metadata": {
  "kernelspec": {
   "name": "churches",
   "language": "python",
   "display_name": "Python (churches)"
  },
  "language_info": {
   "codemirror_mode": {
    "name": "ipython",
    "version": 2
   },
   "file_extension": ".py",
   "mimetype": "text/x-python",
   "name": "python",
   "nbconvert_exporter": "python",
   "pygments_lexer": "ipython2",
   "version": "2.7.6"
  }
 },
 "nbformat": 4,
 "nbformat_minor": 0
}