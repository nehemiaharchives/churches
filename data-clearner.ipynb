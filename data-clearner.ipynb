{
 "cells": [
  {
   "cell_type": "code",
   "execution_count": 1,
   "metadata": {
    "collapsed": true
   },
   "outputs": [
    {
     "data": {
      "text/plain": "                      タイトル  メモ  \\\n0                 大牟田めぐみ教会 NaN   \n1                 大牟田ロゴス教会 NaN   \n2             在日大韓基督教会水戸教会 NaN   \n3                  宮城めぐみ教会 NaN   \n4               つきしろキリスト教会 NaN   \n8463          日本福音ルーテル静岡教会 NaN   \n8464          日本基督教団静岡草深教会 NaN   \n8465  インマヌエル綜合伝道団 静岡キリスト教会 NaN   \n8466            日本基督教団静岡教会 NaN   \n8467       日本バプテスト静岡キリスト教会 NaN   \n\n                                                    URL  コメント  \n0     https://www.google.com/maps/place/%E5%A4%A7%E7...   NaN  \n1     https://www.google.com/maps/place/%E5%A4%A7%E7...   NaN  \n2     https://www.google.com/maps/place/%E5%9C%A8%E6...   NaN  \n3     https://www.google.com/maps/place/%E5%AE%AE%E5...   NaN  \n4     https://www.google.com/maps/place/%E3%81%A4%E3...   NaN  \n8463  https://www.google.com/maps/place/%E6%97%A5%E6...   NaN  \n8464  https://www.google.com/maps/place/%E6%97%A5%E6...   NaN  \n8465  https://www.google.com/maps/place/%E3%82%A4%E3...   NaN  \n8466  https://www.google.com/maps/place/%E6%97%A5%E6...   NaN  \n8467  https://www.google.com/maps/place/%E6%97%A5%E6...   NaN  ",
      "text/html": "<div>\n<style scoped>\n    .dataframe tbody tr th:only-of-type {\n        vertical-align: middle;\n    }\n\n    .dataframe tbody tr th {\n        vertical-align: top;\n    }\n\n    .dataframe thead th {\n        text-align: right;\n    }\n</style>\n<table border=\"1\" class=\"dataframe\">\n  <thead>\n    <tr style=\"text-align: right;\">\n      <th></th>\n      <th>タイトル</th>\n      <th>メモ</th>\n      <th>URL</th>\n      <th>コメント</th>\n    </tr>\n  </thead>\n  <tbody>\n    <tr>\n      <th>0</th>\n      <td>大牟田めぐみ教会</td>\n      <td>NaN</td>\n      <td>https://www.google.com/maps/place/%E5%A4%A7%E7...</td>\n      <td>NaN</td>\n    </tr>\n    <tr>\n      <th>1</th>\n      <td>大牟田ロゴス教会</td>\n      <td>NaN</td>\n      <td>https://www.google.com/maps/place/%E5%A4%A7%E7...</td>\n      <td>NaN</td>\n    </tr>\n    <tr>\n      <th>2</th>\n      <td>在日大韓基督教会水戸教会</td>\n      <td>NaN</td>\n      <td>https://www.google.com/maps/place/%E5%9C%A8%E6...</td>\n      <td>NaN</td>\n    </tr>\n    <tr>\n      <th>3</th>\n      <td>宮城めぐみ教会</td>\n      <td>NaN</td>\n      <td>https://www.google.com/maps/place/%E5%AE%AE%E5...</td>\n      <td>NaN</td>\n    </tr>\n    <tr>\n      <th>4</th>\n      <td>つきしろキリスト教会</td>\n      <td>NaN</td>\n      <td>https://www.google.com/maps/place/%E3%81%A4%E3...</td>\n      <td>NaN</td>\n    </tr>\n    <tr>\n      <th>8463</th>\n      <td>日本福音ルーテル静岡教会</td>\n      <td>NaN</td>\n      <td>https://www.google.com/maps/place/%E6%97%A5%E6...</td>\n      <td>NaN</td>\n    </tr>\n    <tr>\n      <th>8464</th>\n      <td>日本基督教団静岡草深教会</td>\n      <td>NaN</td>\n      <td>https://www.google.com/maps/place/%E6%97%A5%E6...</td>\n      <td>NaN</td>\n    </tr>\n    <tr>\n      <th>8465</th>\n      <td>インマヌエル綜合伝道団 静岡キリスト教会</td>\n      <td>NaN</td>\n      <td>https://www.google.com/maps/place/%E3%82%A4%E3...</td>\n      <td>NaN</td>\n    </tr>\n    <tr>\n      <th>8466</th>\n      <td>日本基督教団静岡教会</td>\n      <td>NaN</td>\n      <td>https://www.google.com/maps/place/%E6%97%A5%E6...</td>\n      <td>NaN</td>\n    </tr>\n    <tr>\n      <th>8467</th>\n      <td>日本バプテスト静岡キリスト教会</td>\n      <td>NaN</td>\n      <td>https://www.google.com/maps/place/%E6%97%A5%E6...</td>\n      <td>NaN</td>\n    </tr>\n  </tbody>\n</table>\n</div>"
     },
     "execution_count": 1,
     "metadata": {},
     "output_type": "execute_result"
    }
   ],
   "source": [
    "import pandas as pd\n",
    "df = pd.read_csv(\"data/churches-none-cath.csv\")\n",
    "df.head().append(df.tail())"
   ]
  },
  {
   "cell_type": "code",
   "execution_count": 3,
   "outputs": [
    {
     "data": {
      "text/plain": "                 タイトル  メモ                                                URL  \\\n23        日本基督教団西荒川教会 NaN  https://www.google.com/maps/place/%E6%97%A5%E6...   \n28        日本基督教団 柴宿教会 NaN  https://www.google.com/maps/place/%E6%97%A5%E6...   \n32    日本キリスト教団 久喜復活教会 NaN  https://www.google.com/maps/place/%E6%97%A5%E6...   \n33        日本基督教団 菖蒲教会 NaN  https://www.google.com/maps/place/%E6%97%A5%E6...   \n119     日本キリスト教団瀬戸内教会 NaN  https://www.google.com/maps/place/%E6%97%A5%E6...   \n...               ...  ..                                                ...   \n8452    日本キリスト教団御殿場教会 NaN  https://www.google.com/maps/place/%E6%97%A5%E6...   \n8453     日本キリスト教団清水教会 NaN  https://www.google.com/maps/place/%E6%97%A5%E6...   \n8461       日本基督教団駿府教会 NaN  https://www.google.com/maps/place/%E6%97%A5%E6...   \n8464     日本基督教団静岡草深教会 NaN  https://www.google.com/maps/place/%E6%97%A5%E6...   \n8466       日本基督教団静岡教会 NaN  https://www.google.com/maps/place/%E6%97%A5%E6...   \n\n      コメント  \n23     NaN  \n28     NaN  \n32     NaN  \n33     NaN  \n119    NaN  \n...    ...  \n8452   NaN  \n8453   NaN  \n8461   NaN  \n8464   NaN  \n8466   NaN  \n\n[1366 rows x 4 columns]",
      "text/html": "<div>\n<style scoped>\n    .dataframe tbody tr th:only-of-type {\n        vertical-align: middle;\n    }\n\n    .dataframe tbody tr th {\n        vertical-align: top;\n    }\n\n    .dataframe thead th {\n        text-align: right;\n    }\n</style>\n<table border=\"1\" class=\"dataframe\">\n  <thead>\n    <tr style=\"text-align: right;\">\n      <th></th>\n      <th>タイトル</th>\n      <th>メモ</th>\n      <th>URL</th>\n      <th>コメント</th>\n    </tr>\n  </thead>\n  <tbody>\n    <tr>\n      <th>23</th>\n      <td>日本基督教団西荒川教会</td>\n      <td>NaN</td>\n      <td>https://www.google.com/maps/place/%E6%97%A5%E6...</td>\n      <td>NaN</td>\n    </tr>\n    <tr>\n      <th>28</th>\n      <td>日本基督教団 柴宿教会</td>\n      <td>NaN</td>\n      <td>https://www.google.com/maps/place/%E6%97%A5%E6...</td>\n      <td>NaN</td>\n    </tr>\n    <tr>\n      <th>32</th>\n      <td>日本キリスト教団 久喜復活教会</td>\n      <td>NaN</td>\n      <td>https://www.google.com/maps/place/%E6%97%A5%E6...</td>\n      <td>NaN</td>\n    </tr>\n    <tr>\n      <th>33</th>\n      <td>日本基督教団 菖蒲教会</td>\n      <td>NaN</td>\n      <td>https://www.google.com/maps/place/%E6%97%A5%E6...</td>\n      <td>NaN</td>\n    </tr>\n    <tr>\n      <th>119</th>\n      <td>日本キリスト教団瀬戸内教会</td>\n      <td>NaN</td>\n      <td>https://www.google.com/maps/place/%E6%97%A5%E6...</td>\n      <td>NaN</td>\n    </tr>\n    <tr>\n      <th>...</th>\n      <td>...</td>\n      <td>...</td>\n      <td>...</td>\n      <td>...</td>\n    </tr>\n    <tr>\n      <th>8452</th>\n      <td>日本キリスト教団御殿場教会</td>\n      <td>NaN</td>\n      <td>https://www.google.com/maps/place/%E6%97%A5%E6...</td>\n      <td>NaN</td>\n    </tr>\n    <tr>\n      <th>8453</th>\n      <td>日本キリスト教団清水教会</td>\n      <td>NaN</td>\n      <td>https://www.google.com/maps/place/%E6%97%A5%E6...</td>\n      <td>NaN</td>\n    </tr>\n    <tr>\n      <th>8461</th>\n      <td>日本基督教団駿府教会</td>\n      <td>NaN</td>\n      <td>https://www.google.com/maps/place/%E6%97%A5%E6...</td>\n      <td>NaN</td>\n    </tr>\n    <tr>\n      <th>8464</th>\n      <td>日本基督教団静岡草深教会</td>\n      <td>NaN</td>\n      <td>https://www.google.com/maps/place/%E6%97%A5%E6...</td>\n      <td>NaN</td>\n    </tr>\n    <tr>\n      <th>8466</th>\n      <td>日本基督教団静岡教会</td>\n      <td>NaN</td>\n      <td>https://www.google.com/maps/place/%E6%97%A5%E6...</td>\n      <td>NaN</td>\n    </tr>\n  </tbody>\n</table>\n<p>1366 rows × 4 columns</p>\n</div>"
     },
     "execution_count": 3,
     "metadata": {},
     "output_type": "execute_result"
    }
   ],
   "source": [
    "df[df['タイトル'].str.contains('日本基督教団|日本キリスト教団')]"
   ],
   "metadata": {
    "collapsed": false,
    "pycharm": {
     "name": "#%%\n"
    }
   }
  }
 ],
 "metadata": {
  "kernelspec": {
   "name": "churches",
   "language": "python",
   "display_name": "Python (churches)"
  },
  "language_info": {
   "codemirror_mode": {
    "name": "ipython",
    "version": 2
   },
   "file_extension": ".py",
   "mimetype": "text/x-python",
   "name": "python",
   "nbconvert_exporter": "python",
   "pygments_lexer": "ipython2",
   "version": "2.7.6"
  }
 },
 "nbformat": 4,
 "nbformat_minor": 0
}